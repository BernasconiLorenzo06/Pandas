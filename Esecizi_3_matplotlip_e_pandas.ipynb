{
  "cells": [
    {
      "cell_type": "markdown",
      "metadata": {
        "id": "view-in-github",
        "colab_type": "text"
      },
      "source": [
        "<a href=\"https://colab.research.google.com/github/BernasconiLorenzo06/Pandas/blob/main/Esecizi_3_matplotlip_e_pandas.ipynb\" target=\"_parent\"><img src=\"https://colab.research.google.com/assets/colab-badge.svg\" alt=\"Open In Colab\"/></a>"
      ]
    },
    {
      "cell_type": "code",
      "execution_count": null,
      "metadata": {
        "id": "BpIUgIxBDkum"
      },
      "outputs": [],
      "source": [
        "import pandas as pd"
      ]
    },
    {
      "cell_type": "code",
      "execution_count": null,
      "metadata": {
        "colab": {
          "base_uri": "https://localhost:8080/",
          "height": 424
        },
        "id": "IbNcv26AEFEm",
        "outputId": "60fb624a-7bec-4b19-c3de-512bedd26382"
      },
      "outputs": [
        {
          "output_type": "execute_result",
          "data": {
            "text/plain": [
              "    area      reg    eta  totale_popolazione\n",
              "0    ABR  Abruzzo  05-11               76431\n",
              "1    ABR  Abruzzo  12-19               94727\n",
              "2    ABR  Abruzzo  20-29              125230\n",
              "3    ABR  Abruzzo  30-39              146965\n",
              "4    ABR  Abruzzo  40-49              187162\n",
              "..   ...      ...    ...                 ...\n",
              "184  VEN   Veneto  40-49              715790\n",
              "185  VEN   Veneto  50-59              806474\n",
              "186  VEN   Veneto  60-69              610635\n",
              "187  VEN   Veneto  70-79              494721\n",
              "188  VEN   Veneto    80+              375784\n",
              "\n",
              "[189 rows x 4 columns]"
            ],
            "text/html": [
              "\n",
              "  <div id=\"df-3d62a8a0-5110-40d7-a630-1d7398813364\">\n",
              "    <div class=\"colab-df-container\">\n",
              "      <div>\n",
              "<style scoped>\n",
              "    .dataframe tbody tr th:only-of-type {\n",
              "        vertical-align: middle;\n",
              "    }\n",
              "\n",
              "    .dataframe tbody tr th {\n",
              "        vertical-align: top;\n",
              "    }\n",
              "\n",
              "    .dataframe thead th {\n",
              "        text-align: right;\n",
              "    }\n",
              "</style>\n",
              "<table border=\"1\" class=\"dataframe\">\n",
              "  <thead>\n",
              "    <tr style=\"text-align: right;\">\n",
              "      <th></th>\n",
              "      <th>area</th>\n",
              "      <th>reg</th>\n",
              "      <th>eta</th>\n",
              "      <th>totale_popolazione</th>\n",
              "    </tr>\n",
              "  </thead>\n",
              "  <tbody>\n",
              "    <tr>\n",
              "      <th>0</th>\n",
              "      <td>ABR</td>\n",
              "      <td>Abruzzo</td>\n",
              "      <td>05-11</td>\n",
              "      <td>76431</td>\n",
              "    </tr>\n",
              "    <tr>\n",
              "      <th>1</th>\n",
              "      <td>ABR</td>\n",
              "      <td>Abruzzo</td>\n",
              "      <td>12-19</td>\n",
              "      <td>94727</td>\n",
              "    </tr>\n",
              "    <tr>\n",
              "      <th>2</th>\n",
              "      <td>ABR</td>\n",
              "      <td>Abruzzo</td>\n",
              "      <td>20-29</td>\n",
              "      <td>125230</td>\n",
              "    </tr>\n",
              "    <tr>\n",
              "      <th>3</th>\n",
              "      <td>ABR</td>\n",
              "      <td>Abruzzo</td>\n",
              "      <td>30-39</td>\n",
              "      <td>146965</td>\n",
              "    </tr>\n",
              "    <tr>\n",
              "      <th>4</th>\n",
              "      <td>ABR</td>\n",
              "      <td>Abruzzo</td>\n",
              "      <td>40-49</td>\n",
              "      <td>187162</td>\n",
              "    </tr>\n",
              "    <tr>\n",
              "      <th>...</th>\n",
              "      <td>...</td>\n",
              "      <td>...</td>\n",
              "      <td>...</td>\n",
              "      <td>...</td>\n",
              "    </tr>\n",
              "    <tr>\n",
              "      <th>184</th>\n",
              "      <td>VEN</td>\n",
              "      <td>Veneto</td>\n",
              "      <td>40-49</td>\n",
              "      <td>715790</td>\n",
              "    </tr>\n",
              "    <tr>\n",
              "      <th>185</th>\n",
              "      <td>VEN</td>\n",
              "      <td>Veneto</td>\n",
              "      <td>50-59</td>\n",
              "      <td>806474</td>\n",
              "    </tr>\n",
              "    <tr>\n",
              "      <th>186</th>\n",
              "      <td>VEN</td>\n",
              "      <td>Veneto</td>\n",
              "      <td>60-69</td>\n",
              "      <td>610635</td>\n",
              "    </tr>\n",
              "    <tr>\n",
              "      <th>187</th>\n",
              "      <td>VEN</td>\n",
              "      <td>Veneto</td>\n",
              "      <td>70-79</td>\n",
              "      <td>494721</td>\n",
              "    </tr>\n",
              "    <tr>\n",
              "      <th>188</th>\n",
              "      <td>VEN</td>\n",
              "      <td>Veneto</td>\n",
              "      <td>80+</td>\n",
              "      <td>375784</td>\n",
              "    </tr>\n",
              "  </tbody>\n",
              "</table>\n",
              "<p>189 rows × 4 columns</p>\n",
              "</div>\n",
              "      <button class=\"colab-df-convert\" onclick=\"convertToInteractive('df-3d62a8a0-5110-40d7-a630-1d7398813364')\"\n",
              "              title=\"Convert this dataframe to an interactive table.\"\n",
              "              style=\"display:none;\">\n",
              "        \n",
              "  <svg xmlns=\"http://www.w3.org/2000/svg\" height=\"24px\"viewBox=\"0 0 24 24\"\n",
              "       width=\"24px\">\n",
              "    <path d=\"M0 0h24v24H0V0z\" fill=\"none\"/>\n",
              "    <path d=\"M18.56 5.44l.94 2.06.94-2.06 2.06-.94-2.06-.94-.94-2.06-.94 2.06-2.06.94zm-11 1L8.5 8.5l.94-2.06 2.06-.94-2.06-.94L8.5 2.5l-.94 2.06-2.06.94zm10 10l.94 2.06.94-2.06 2.06-.94-2.06-.94-.94-2.06-.94 2.06-2.06.94z\"/><path d=\"M17.41 7.96l-1.37-1.37c-.4-.4-.92-.59-1.43-.59-.52 0-1.04.2-1.43.59L10.3 9.45l-7.72 7.72c-.78.78-.78 2.05 0 2.83L4 21.41c.39.39.9.59 1.41.59.51 0 1.02-.2 1.41-.59l7.78-7.78 2.81-2.81c.8-.78.8-2.07 0-2.86zM5.41 20L4 18.59l7.72-7.72 1.47 1.35L5.41 20z\"/>\n",
              "  </svg>\n",
              "      </button>\n",
              "      \n",
              "  <style>\n",
              "    .colab-df-container {\n",
              "      display:flex;\n",
              "      flex-wrap:wrap;\n",
              "      gap: 12px;\n",
              "    }\n",
              "\n",
              "    .colab-df-convert {\n",
              "      background-color: #E8F0FE;\n",
              "      border: none;\n",
              "      border-radius: 50%;\n",
              "      cursor: pointer;\n",
              "      display: none;\n",
              "      fill: #1967D2;\n",
              "      height: 32px;\n",
              "      padding: 0 0 0 0;\n",
              "      width: 32px;\n",
              "    }\n",
              "\n",
              "    .colab-df-convert:hover {\n",
              "      background-color: #E2EBFA;\n",
              "      box-shadow: 0px 1px 2px rgba(60, 64, 67, 0.3), 0px 1px 3px 1px rgba(60, 64, 67, 0.15);\n",
              "      fill: #174EA6;\n",
              "    }\n",
              "\n",
              "    [theme=dark] .colab-df-convert {\n",
              "      background-color: #3B4455;\n",
              "      fill: #D2E3FC;\n",
              "    }\n",
              "\n",
              "    [theme=dark] .colab-df-convert:hover {\n",
              "      background-color: #434B5C;\n",
              "      box-shadow: 0px 1px 3px 1px rgba(0, 0, 0, 0.15);\n",
              "      filter: drop-shadow(0px 1px 2px rgba(0, 0, 0, 0.3));\n",
              "      fill: #FFFFFF;\n",
              "    }\n",
              "  </style>\n",
              "\n",
              "      <script>\n",
              "        const buttonEl =\n",
              "          document.querySelector('#df-3d62a8a0-5110-40d7-a630-1d7398813364 button.colab-df-convert');\n",
              "        buttonEl.style.display =\n",
              "          google.colab.kernel.accessAllowed ? 'block' : 'none';\n",
              "\n",
              "        async function convertToInteractive(key) {\n",
              "          const element = document.querySelector('#df-3d62a8a0-5110-40d7-a630-1d7398813364');\n",
              "          const dataTable =\n",
              "            await google.colab.kernel.invokeFunction('convertToInteractive',\n",
              "                                                     [key], {});\n",
              "          if (!dataTable) return;\n",
              "\n",
              "          const docLinkHtml = 'Like what you see? Visit the ' +\n",
              "            '<a target=\"_blank\" href=https://colab.research.google.com/notebooks/data_table.ipynb>data table notebook</a>'\n",
              "            + ' to learn more about interactive tables.';\n",
              "          element.innerHTML = '';\n",
              "          dataTable['output_type'] = 'display_data';\n",
              "          await google.colab.output.renderOutput(dataTable, element);\n",
              "          const docLink = document.createElement('div');\n",
              "          docLink.innerHTML = docLinkHtml;\n",
              "          element.appendChild(docLink);\n",
              "        }\n",
              "      </script>\n",
              "    </div>\n",
              "  </div>\n",
              "  "
            ]
          },
          "metadata": {},
          "execution_count": 46
        }
      ],
      "source": [
        "df = pd.read_csv(\"https://raw.githubusercontent.com/italia/covid19-opendata-vaccini/master/dati/platea.csv\")\n",
        "df"
      ]
    },
    {
      "cell_type": "code",
      "execution_count": null,
      "metadata": {
        "id": "ni-nmFvGEQmh"
      },
      "outputs": [],
      "source": [
        "#1. il numero di record presente nel file\n",
        "len(df. index)"
      ]
    },
    {
      "cell_type": "code",
      "execution_count": null,
      "metadata": {
        "id": "_FegstH6EQf1"
      },
      "outputs": [],
      "source": [
        "#2. il numero di regioni presente nel file\n",
        "len(set(df[\"reg\"]))"
      ]
    },
    {
      "cell_type": "code",
      "execution_count": null,
      "metadata": {
        "id": "XQOASYKREQaV"
      },
      "outputs": [],
      "source": [
        "#3. il numero di abitanti di ogni regione. Ordinare in ordine decrescente sul numero di abitanti\n",
        "dfSi = df.groupby(\"reg\").sum()[[\"totale_popolazione\"]].sort_values(by=[\"totale_popolazione\"],ascending = False).reset_index()\n",
        "dfSi"
      ]
    },
    {
      "cell_type": "code",
      "source": [
        "PopTot = df.groupby(\"reg\")[[\"totale_popolazione\"]].sum().reset_index()\n",
        "PopTot"
      ],
      "metadata": {
        "id": "b40j_OY6KRXH"
      },
      "execution_count": null,
      "outputs": []
    },
    {
      "cell_type": "code",
      "execution_count": null,
      "metadata": {
        "id": "kEJZ0LirEQTV"
      },
      "outputs": [],
      "source": [
        "#4. la regione con il numero di abitanti più alto\n",
        "PopTot[PopTot[\"totale_popolazione\"] == PopTot[\"totale_popolazione\"].max()][[\"reg\"]]\n"
      ]
    },
    {
      "cell_type": "code",
      "source": [
        "df[\"totale_popolazione\"].max()"
      ],
      "metadata": {
        "colab": {
          "base_uri": "https://localhost:8080/"
        },
        "id": "OskJPUGoHHwp",
        "outputId": "65a28f67-1e13-4e19-cf87-aeda755734a8"
      },
      "execution_count": null,
      "outputs": [
        {
          "output_type": "execute_result",
          "data": {
            "text/plain": [
              "1677629"
            ]
          },
          "metadata": {},
          "execution_count": 45
        }
      ]
    },
    {
      "cell_type": "code",
      "execution_count": null,
      "metadata": {
        "id": "68AG_LLAEQNV"
      },
      "outputs": [],
      "source": [
        "#5. il numero medio di abitanti delle regioni\n",
        "dfMedia = df.groupby(\"reg\")[[\"totale_popolazione\"]].mean()\n",
        "dfMedia\n"
      ]
    },
    {
      "cell_type": "code",
      "execution_count": null,
      "metadata": {
        "id": "LtzaInGsEQHm"
      },
      "outputs": [],
      "source": [
        "#6. le regioni che hanno più abitanti della media degli abitanti delle regioni\n",
        "PopTot = df.groupby(\"reg\")[[\"totale_popolazione\"]].sum()\n",
        "PopTot"
      ]
    },
    {
      "cell_type": "code",
      "source": [
        "PopTot[(PopTot[\"totale_popolazione\"]) > (PopTot[\"totale_popolazione\"].mean())]"
      ],
      "metadata": {
        "id": "0icZzNsVIZys"
      },
      "execution_count": null,
      "outputs": []
    },
    {
      "cell_type": "code",
      "execution_count": null,
      "metadata": {
        "id": "GT-iRusZEQB2"
      },
      "outputs": [],
      "source": [
        "#7. la regione che ha più abitanti nella fascia 12-19\n",
        "\n",
        "dfGino = df[df[\"eta\"] == \"12-19\"].groupby(\"reg\").sum()[[\"totale_popolazione\"]].reset_index()\n",
        "\n",
        "dfGino[dfGino[\"totale_popolazione\"] == dfGino[\"totale_popolazione\"].max()][[\"reg\"]]"
      ]
    },
    {
      "cell_type": "code",
      "execution_count": null,
      "metadata": {
        "id": "UGPQcxmWEP8F"
      },
      "outputs": [],
      "source": [
        "#8. il numero di abitanti per ogni fascia d'età\n",
        "dfEta = df.groupby(\"eta\").sum()[[\"totale_popolazione\"]].reset_index()\n",
        "dfEta"
      ]
    },
    {
      "cell_type": "code",
      "execution_count": null,
      "metadata": {
        "id": "kD1ylvJdEP11"
      },
      "outputs": [],
      "source": [
        "#9. la fascia d'età con più abitanti\n",
        "dfEta[dfEta[\"totale_popolazione\"] == dfEta[\"totale_popolazione\"].max()]"
      ]
    },
    {
      "cell_type": "code",
      "source": [
        "!pip install squarify"
      ],
      "metadata": {
        "id": "lABHQxAZKYfm"
      },
      "execution_count": null,
      "outputs": []
    },
    {
      "cell_type": "code",
      "source": [
        "import matplotlib.pyplot as plt\n",
        "import numpy as np"
      ],
      "metadata": {
        "id": "mxX_FKKCME9N"
      },
      "execution_count": null,
      "outputs": []
    },
    {
      "cell_type": "code",
      "execution_count": null,
      "metadata": {
        "id": "R3pDG4dvEPvV"
      },
      "outputs": [],
      "source": [
        "#10.  un grafico a barre orizzontali per l'esercizio 3\n",
        "import squarify\n",
        "labels = dfSi['reg']\n",
        "dati = dfSi['totale_popolazione']\n",
        "\n",
        "fig, ax = plt.subplots(figsize=(15,8))\n",
        "ax.barh(labels, dati, label='totale vaccinati in ogni regione',color=[\"red\",\"green\",\"blue\", \"grey\", \"orange\", \"yellow\"])\n",
        "\n",
        "ax.set_ylabel('abitanti (in milioni)')\n",
        "ax.set_title('popolazione vaccinata nelle varie regioni')\n",
        "ax.set_xticklabels(labels) \n",
        "ax.legend()"
      ]
    },
    {
      "cell_type": "code",
      "execution_count": null,
      "metadata": {
        "id": "ND6Wu3XNEPo9"
      },
      "outputs": [],
      "source": [
        "#11. un grafico a barre verticali per l'esercizio 8\n",
        "labels = dfEta['eta']\n",
        "dati = dfEta['totale_popolazione']\n",
        "\n",
        "fig, ax = plt.subplots(figsize=(15,8))\n",
        "ax.bar(labels, dati, label='totale vaccinati in ogni regione',color=[\"red\",\"green\",\"blue\", \"grey\", \"orange\", \"yellow\"])\n",
        "\n",
        "ax.set_ylabel('abitanti (in milioni)')\n",
        "ax.set_title('popolazione vaccinata nelle varie regioni')\n",
        "ax.set_xticklabels(labels) \n",
        "ax.legend()"
      ]
    },
    {
      "cell_type": "code",
      "execution_count": null,
      "metadata": {
        "id": "uEOtnwOoEt5e"
      },
      "outputs": [],
      "source": [
        "#12. un grafico a torta per l'esercizio 3 che riporti le percentuali\n",
        "labels = dfSi['reg']\n",
        "dati = dfSi['totale_popolazione']\n",
        "plt.figure(figsize=(16, 8))\n",
        "plt.pie(dati, labels=labels, autopct='%1.1f%%')\n",
        "plt.show()"
      ]
    },
    {
      "cell_type": "code",
      "source": [
        "import pandas as pd"
      ],
      "metadata": {
        "id": "lrwRE9z9Ot4r"
      },
      "execution_count": null,
      "outputs": []
    },
    {
      "cell_type": "code",
      "source": [
        "df = pd.read_csv(\"https://raw.githubusercontent.com/pcm-dpc/COVID-19/master/dati-province/dpc-covid19-ita-province-20221119.csv\")\n",
        "df"
      ],
      "metadata": {
        "colab": {
          "base_uri": "https://localhost:8080/",
          "height": 661
        },
        "id": "QbPcQtEcOxWJ",
        "outputId": "3b2acb9e-6e3f-4100-8576-c99d3b344708"
      },
      "execution_count": null,
      "outputs": [
        {
          "output_type": "execute_result",
          "data": {
            "text/plain": [
              "                    data stato  codice_regione denominazione_regione  \\\n",
              "0    2022-11-19T17:00:00   ITA              13               Abruzzo   \n",
              "1    2022-11-19T17:00:00   ITA              13               Abruzzo   \n",
              "2    2022-11-19T17:00:00   ITA              13               Abruzzo   \n",
              "3    2022-11-19T17:00:00   ITA              13               Abruzzo   \n",
              "4    2022-11-19T17:00:00   ITA              13               Abruzzo   \n",
              "..                   ...   ...             ...                   ...   \n",
              "144  2022-11-19T17:00:00   ITA               5                Veneto   \n",
              "145  2022-11-19T17:00:00   ITA               5                Veneto   \n",
              "146  2022-11-19T17:00:00   ITA               5                Veneto   \n",
              "147  2022-11-19T17:00:00   ITA               5                Veneto   \n",
              "148  2022-11-19T17:00:00   ITA               5                Veneto   \n",
              "\n",
              "     codice_provincia               denominazione_provincia sigla_provincia  \\\n",
              "0                  66                              L'Aquila              AQ   \n",
              "1                  67                                Teramo              TE   \n",
              "2                  68                               Pescara              PE   \n",
              "3                  69                                Chieti              CH   \n",
              "4                 879    Fuori Regione / Provincia Autonoma             NaN   \n",
              "..                ...                                   ...             ...   \n",
              "144                27                               Venezia              VE   \n",
              "145                28                                Padova              PD   \n",
              "146                29                                Rovigo              RO   \n",
              "147               899    Fuori Regione / Provincia Autonoma             NaN   \n",
              "148               999  In fase di definizione/aggiornamento             NaN   \n",
              "\n",
              "           lat       long  totale_casi  note codice_nuts_1 codice_nuts_2  \\\n",
              "0    42.351222  13.398438       123235   NaN           ITF          ITF1   \n",
              "1    42.658918  13.704400       143295   NaN           ITF          ITF1   \n",
              "2    42.464584  14.213648       142547   NaN           ITF          ITF1   \n",
              "3    42.351032  14.167546       171694   NaN           ITF          ITF1   \n",
              "4          NaN        NaN        12772   NaN           ITF          ITF1   \n",
              "..         ...        ...          ...   ...           ...           ...   \n",
              "144  45.434905  12.338452       420955   NaN           ITH          ITH3   \n",
              "145  45.406930  11.876087       488071   NaN           ITH          ITH3   \n",
              "146  45.071073  11.790070       108879   NaN           ITH          ITH3   \n",
              "147        NaN        NaN        37545   NaN           ITH          ITH3   \n",
              "148        NaN        NaN        12075   NaN           ITH          ITH3   \n",
              "\n",
              "    codice_nuts_3  \n",
              "0           ITF11  \n",
              "1           ITF12  \n",
              "2           ITF13  \n",
              "3           ITF14  \n",
              "4             NaN  \n",
              "..            ...  \n",
              "144         ITH35  \n",
              "145         ITH36  \n",
              "146         ITH37  \n",
              "147           NaN  \n",
              "148           NaN  \n",
              "\n",
              "[149 rows x 14 columns]"
            ],
            "text/html": [
              "\n",
              "  <div id=\"df-6643d58b-9cd3-422d-91a2-83e10eb28f49\">\n",
              "    <div class=\"colab-df-container\">\n",
              "      <div>\n",
              "<style scoped>\n",
              "    .dataframe tbody tr th:only-of-type {\n",
              "        vertical-align: middle;\n",
              "    }\n",
              "\n",
              "    .dataframe tbody tr th {\n",
              "        vertical-align: top;\n",
              "    }\n",
              "\n",
              "    .dataframe thead th {\n",
              "        text-align: right;\n",
              "    }\n",
              "</style>\n",
              "<table border=\"1\" class=\"dataframe\">\n",
              "  <thead>\n",
              "    <tr style=\"text-align: right;\">\n",
              "      <th></th>\n",
              "      <th>data</th>\n",
              "      <th>stato</th>\n",
              "      <th>codice_regione</th>\n",
              "      <th>denominazione_regione</th>\n",
              "      <th>codice_provincia</th>\n",
              "      <th>denominazione_provincia</th>\n",
              "      <th>sigla_provincia</th>\n",
              "      <th>lat</th>\n",
              "      <th>long</th>\n",
              "      <th>totale_casi</th>\n",
              "      <th>note</th>\n",
              "      <th>codice_nuts_1</th>\n",
              "      <th>codice_nuts_2</th>\n",
              "      <th>codice_nuts_3</th>\n",
              "    </tr>\n",
              "  </thead>\n",
              "  <tbody>\n",
              "    <tr>\n",
              "      <th>0</th>\n",
              "      <td>2022-11-19T17:00:00</td>\n",
              "      <td>ITA</td>\n",
              "      <td>13</td>\n",
              "      <td>Abruzzo</td>\n",
              "      <td>66</td>\n",
              "      <td>L'Aquila</td>\n",
              "      <td>AQ</td>\n",
              "      <td>42.351222</td>\n",
              "      <td>13.398438</td>\n",
              "      <td>123235</td>\n",
              "      <td>NaN</td>\n",
              "      <td>ITF</td>\n",
              "      <td>ITF1</td>\n",
              "      <td>ITF11</td>\n",
              "    </tr>\n",
              "    <tr>\n",
              "      <th>1</th>\n",
              "      <td>2022-11-19T17:00:00</td>\n",
              "      <td>ITA</td>\n",
              "      <td>13</td>\n",
              "      <td>Abruzzo</td>\n",
              "      <td>67</td>\n",
              "      <td>Teramo</td>\n",
              "      <td>TE</td>\n",
              "      <td>42.658918</td>\n",
              "      <td>13.704400</td>\n",
              "      <td>143295</td>\n",
              "      <td>NaN</td>\n",
              "      <td>ITF</td>\n",
              "      <td>ITF1</td>\n",
              "      <td>ITF12</td>\n",
              "    </tr>\n",
              "    <tr>\n",
              "      <th>2</th>\n",
              "      <td>2022-11-19T17:00:00</td>\n",
              "      <td>ITA</td>\n",
              "      <td>13</td>\n",
              "      <td>Abruzzo</td>\n",
              "      <td>68</td>\n",
              "      <td>Pescara</td>\n",
              "      <td>PE</td>\n",
              "      <td>42.464584</td>\n",
              "      <td>14.213648</td>\n",
              "      <td>142547</td>\n",
              "      <td>NaN</td>\n",
              "      <td>ITF</td>\n",
              "      <td>ITF1</td>\n",
              "      <td>ITF13</td>\n",
              "    </tr>\n",
              "    <tr>\n",
              "      <th>3</th>\n",
              "      <td>2022-11-19T17:00:00</td>\n",
              "      <td>ITA</td>\n",
              "      <td>13</td>\n",
              "      <td>Abruzzo</td>\n",
              "      <td>69</td>\n",
              "      <td>Chieti</td>\n",
              "      <td>CH</td>\n",
              "      <td>42.351032</td>\n",
              "      <td>14.167546</td>\n",
              "      <td>171694</td>\n",
              "      <td>NaN</td>\n",
              "      <td>ITF</td>\n",
              "      <td>ITF1</td>\n",
              "      <td>ITF14</td>\n",
              "    </tr>\n",
              "    <tr>\n",
              "      <th>4</th>\n",
              "      <td>2022-11-19T17:00:00</td>\n",
              "      <td>ITA</td>\n",
              "      <td>13</td>\n",
              "      <td>Abruzzo</td>\n",
              "      <td>879</td>\n",
              "      <td>Fuori Regione / Provincia Autonoma</td>\n",
              "      <td>NaN</td>\n",
              "      <td>NaN</td>\n",
              "      <td>NaN</td>\n",
              "      <td>12772</td>\n",
              "      <td>NaN</td>\n",
              "      <td>ITF</td>\n",
              "      <td>ITF1</td>\n",
              "      <td>NaN</td>\n",
              "    </tr>\n",
              "    <tr>\n",
              "      <th>...</th>\n",
              "      <td>...</td>\n",
              "      <td>...</td>\n",
              "      <td>...</td>\n",
              "      <td>...</td>\n",
              "      <td>...</td>\n",
              "      <td>...</td>\n",
              "      <td>...</td>\n",
              "      <td>...</td>\n",
              "      <td>...</td>\n",
              "      <td>...</td>\n",
              "      <td>...</td>\n",
              "      <td>...</td>\n",
              "      <td>...</td>\n",
              "      <td>...</td>\n",
              "    </tr>\n",
              "    <tr>\n",
              "      <th>144</th>\n",
              "      <td>2022-11-19T17:00:00</td>\n",
              "      <td>ITA</td>\n",
              "      <td>5</td>\n",
              "      <td>Veneto</td>\n",
              "      <td>27</td>\n",
              "      <td>Venezia</td>\n",
              "      <td>VE</td>\n",
              "      <td>45.434905</td>\n",
              "      <td>12.338452</td>\n",
              "      <td>420955</td>\n",
              "      <td>NaN</td>\n",
              "      <td>ITH</td>\n",
              "      <td>ITH3</td>\n",
              "      <td>ITH35</td>\n",
              "    </tr>\n",
              "    <tr>\n",
              "      <th>145</th>\n",
              "      <td>2022-11-19T17:00:00</td>\n",
              "      <td>ITA</td>\n",
              "      <td>5</td>\n",
              "      <td>Veneto</td>\n",
              "      <td>28</td>\n",
              "      <td>Padova</td>\n",
              "      <td>PD</td>\n",
              "      <td>45.406930</td>\n",
              "      <td>11.876087</td>\n",
              "      <td>488071</td>\n",
              "      <td>NaN</td>\n",
              "      <td>ITH</td>\n",
              "      <td>ITH3</td>\n",
              "      <td>ITH36</td>\n",
              "    </tr>\n",
              "    <tr>\n",
              "      <th>146</th>\n",
              "      <td>2022-11-19T17:00:00</td>\n",
              "      <td>ITA</td>\n",
              "      <td>5</td>\n",
              "      <td>Veneto</td>\n",
              "      <td>29</td>\n",
              "      <td>Rovigo</td>\n",
              "      <td>RO</td>\n",
              "      <td>45.071073</td>\n",
              "      <td>11.790070</td>\n",
              "      <td>108879</td>\n",
              "      <td>NaN</td>\n",
              "      <td>ITH</td>\n",
              "      <td>ITH3</td>\n",
              "      <td>ITH37</td>\n",
              "    </tr>\n",
              "    <tr>\n",
              "      <th>147</th>\n",
              "      <td>2022-11-19T17:00:00</td>\n",
              "      <td>ITA</td>\n",
              "      <td>5</td>\n",
              "      <td>Veneto</td>\n",
              "      <td>899</td>\n",
              "      <td>Fuori Regione / Provincia Autonoma</td>\n",
              "      <td>NaN</td>\n",
              "      <td>NaN</td>\n",
              "      <td>NaN</td>\n",
              "      <td>37545</td>\n",
              "      <td>NaN</td>\n",
              "      <td>ITH</td>\n",
              "      <td>ITH3</td>\n",
              "      <td>NaN</td>\n",
              "    </tr>\n",
              "    <tr>\n",
              "      <th>148</th>\n",
              "      <td>2022-11-19T17:00:00</td>\n",
              "      <td>ITA</td>\n",
              "      <td>5</td>\n",
              "      <td>Veneto</td>\n",
              "      <td>999</td>\n",
              "      <td>In fase di definizione/aggiornamento</td>\n",
              "      <td>NaN</td>\n",
              "      <td>NaN</td>\n",
              "      <td>NaN</td>\n",
              "      <td>12075</td>\n",
              "      <td>NaN</td>\n",
              "      <td>ITH</td>\n",
              "      <td>ITH3</td>\n",
              "      <td>NaN</td>\n",
              "    </tr>\n",
              "  </tbody>\n",
              "</table>\n",
              "<p>149 rows × 14 columns</p>\n",
              "</div>\n",
              "      <button class=\"colab-df-convert\" onclick=\"convertToInteractive('df-6643d58b-9cd3-422d-91a2-83e10eb28f49')\"\n",
              "              title=\"Convert this dataframe to an interactive table.\"\n",
              "              style=\"display:none;\">\n",
              "        \n",
              "  <svg xmlns=\"http://www.w3.org/2000/svg\" height=\"24px\"viewBox=\"0 0 24 24\"\n",
              "       width=\"24px\">\n",
              "    <path d=\"M0 0h24v24H0V0z\" fill=\"none\"/>\n",
              "    <path d=\"M18.56 5.44l.94 2.06.94-2.06 2.06-.94-2.06-.94-.94-2.06-.94 2.06-2.06.94zm-11 1L8.5 8.5l.94-2.06 2.06-.94-2.06-.94L8.5 2.5l-.94 2.06-2.06.94zm10 10l.94 2.06.94-2.06 2.06-.94-2.06-.94-.94-2.06-.94 2.06-2.06.94z\"/><path d=\"M17.41 7.96l-1.37-1.37c-.4-.4-.92-.59-1.43-.59-.52 0-1.04.2-1.43.59L10.3 9.45l-7.72 7.72c-.78.78-.78 2.05 0 2.83L4 21.41c.39.39.9.59 1.41.59.51 0 1.02-.2 1.41-.59l7.78-7.78 2.81-2.81c.8-.78.8-2.07 0-2.86zM5.41 20L4 18.59l7.72-7.72 1.47 1.35L5.41 20z\"/>\n",
              "  </svg>\n",
              "      </button>\n",
              "      \n",
              "  <style>\n",
              "    .colab-df-container {\n",
              "      display:flex;\n",
              "      flex-wrap:wrap;\n",
              "      gap: 12px;\n",
              "    }\n",
              "\n",
              "    .colab-df-convert {\n",
              "      background-color: #E8F0FE;\n",
              "      border: none;\n",
              "      border-radius: 50%;\n",
              "      cursor: pointer;\n",
              "      display: none;\n",
              "      fill: #1967D2;\n",
              "      height: 32px;\n",
              "      padding: 0 0 0 0;\n",
              "      width: 32px;\n",
              "    }\n",
              "\n",
              "    .colab-df-convert:hover {\n",
              "      background-color: #E2EBFA;\n",
              "      box-shadow: 0px 1px 2px rgba(60, 64, 67, 0.3), 0px 1px 3px 1px rgba(60, 64, 67, 0.15);\n",
              "      fill: #174EA6;\n",
              "    }\n",
              "\n",
              "    [theme=dark] .colab-df-convert {\n",
              "      background-color: #3B4455;\n",
              "      fill: #D2E3FC;\n",
              "    }\n",
              "\n",
              "    [theme=dark] .colab-df-convert:hover {\n",
              "      background-color: #434B5C;\n",
              "      box-shadow: 0px 1px 3px 1px rgba(0, 0, 0, 0.15);\n",
              "      filter: drop-shadow(0px 1px 2px rgba(0, 0, 0, 0.3));\n",
              "      fill: #FFFFFF;\n",
              "    }\n",
              "  </style>\n",
              "\n",
              "      <script>\n",
              "        const buttonEl =\n",
              "          document.querySelector('#df-6643d58b-9cd3-422d-91a2-83e10eb28f49 button.colab-df-convert');\n",
              "        buttonEl.style.display =\n",
              "          google.colab.kernel.accessAllowed ? 'block' : 'none';\n",
              "\n",
              "        async function convertToInteractive(key) {\n",
              "          const element = document.querySelector('#df-6643d58b-9cd3-422d-91a2-83e10eb28f49');\n",
              "          const dataTable =\n",
              "            await google.colab.kernel.invokeFunction('convertToInteractive',\n",
              "                                                     [key], {});\n",
              "          if (!dataTable) return;\n",
              "\n",
              "          const docLinkHtml = 'Like what you see? Visit the ' +\n",
              "            '<a target=\"_blank\" href=https://colab.research.google.com/notebooks/data_table.ipynb>data table notebook</a>'\n",
              "            + ' to learn more about interactive tables.';\n",
              "          element.innerHTML = '';\n",
              "          dataTable['output_type'] = 'display_data';\n",
              "          await google.colab.output.renderOutput(dataTable, element);\n",
              "          const docLink = document.createElement('div');\n",
              "          docLink.innerHTML = docLinkHtml;\n",
              "          element.appendChild(docLink);\n",
              "        }\n",
              "      </script>\n",
              "    </div>\n",
              "  </div>\n",
              "  "
            ]
          },
          "metadata": {},
          "execution_count": 69
        }
      ]
    },
    {
      "cell_type": "markdown",
      "source": [
        "1. visualizzare il numero di provincie\n",
        "\n",
        "2. visulizzare il numero dei casi totale per ogni regione ordinare in modo decrescente il numero di casi.\n",
        "\n",
        "3. vuisualizzare la regione con più casi\n",
        "\n",
        "4. visualizzare le regioni con longitudine nulla\n",
        "\n",
        "5. viusalizzare il numero di casi per ogni provincia\n",
        "\n",
        "6. visualizzare l aprovincia con meno casi\n",
        "\n",
        "7. fare grafico verticale del esercizio 2"
      ],
      "metadata": {
        "id": "k7xm6Z7aPXHa"
      }
    },
    {
      "cell_type": "code",
      "source": [
        "#1\n",
        "len(set(df[\"denominazione_provincia\"]))"
      ],
      "metadata": {
        "id": "VdC_6IoLQXvq"
      },
      "execution_count": null,
      "outputs": []
    },
    {
      "cell_type": "code",
      "source": [
        "#2\n",
        "dfCiao = df.groupby(\"denominazione_regione\").sum()[[\"totale_casi\"]].sort_values(by=[\"totale_casi\"],ascending = False).reset_index()"
      ],
      "metadata": {
        "id": "jaA2kyQDQoqI"
      },
      "execution_count": null,
      "outputs": []
    },
    {
      "cell_type": "code",
      "source": [
        "#3\n",
        "TotCasi = df.groupby(\"denominazione_regione\")[[\"totale_casi\"]].sum().reset_index()\n",
        "TotCasi[TotCasi[\"totale_casi\"] == TotCasi[\"totale_casi\"].max()][[\"denominazione_regione\"]]"
      ],
      "metadata": {
        "id": "1LUsIpfyQ8RJ"
      },
      "execution_count": null,
      "outputs": []
    },
    {
      "cell_type": "code",
      "source": [
        "#4 visualizzare le regioni con longitudine nulla\n",
        "ciao = df[df.long.isnull()][\"denominazione_regione\"]\n",
        "ciaosenzadoppioni = set(ciao)\n",
        "ciaosenzadoppioni"
      ],
      "metadata": {
        "id": "BBXlRTRGRq7x",
        "outputId": "220e23f3-5678-4596-f314-b2edbba0f235",
        "colab": {
          "base_uri": "https://localhost:8080/"
        }
      },
      "execution_count": null,
      "outputs": [
        {
          "output_type": "error",
          "ename": "NameError",
          "evalue": "ignored",
          "traceback": [
            "\u001b[0;31m---------------------------------------------------------------------------\u001b[0m",
            "\u001b[0;31mNameError\u001b[0m                                 Traceback (most recent call last)",
            "\u001b[0;32m<ipython-input-1-4a86bb13b6d8>\u001b[0m in \u001b[0;36m<module>\u001b[0;34m\u001b[0m\n\u001b[1;32m      1\u001b[0m \u001b[0;31m#4 visualizzare le regioni con longitudine nulla\u001b[0m\u001b[0;34m\u001b[0m\u001b[0;34m\u001b[0m\u001b[0;34m\u001b[0m\u001b[0m\n\u001b[0;32m----> 2\u001b[0;31m \u001b[0mciao\u001b[0m \u001b[0;34m=\u001b[0m \u001b[0mdf\u001b[0m\u001b[0;34m[\u001b[0m\u001b[0mdf\u001b[0m\u001b[0;34m.\u001b[0m\u001b[0mlong\u001b[0m\u001b[0;34m.\u001b[0m\u001b[0misnull\u001b[0m\u001b[0;34m(\u001b[0m\u001b[0;34m)\u001b[0m\u001b[0;34m]\u001b[0m\u001b[0;34m[\u001b[0m\u001b[0;34m\"denominazione_regione\"\u001b[0m\u001b[0;34m]\u001b[0m\u001b[0;34m\u001b[0m\u001b[0;34m\u001b[0m\u001b[0m\n\u001b[0m\u001b[1;32m      3\u001b[0m \u001b[0mciaosenzadoppioni\u001b[0m \u001b[0;34m=\u001b[0m \u001b[0mset\u001b[0m\u001b[0;34m(\u001b[0m\u001b[0mciao\u001b[0m\u001b[0;34m)\u001b[0m\u001b[0;34m\u001b[0m\u001b[0;34m\u001b[0m\u001b[0m\n\u001b[1;32m      4\u001b[0m \u001b[0mciaosenzadoppioni\u001b[0m\u001b[0;34m\u001b[0m\u001b[0;34m\u001b[0m\u001b[0m\n",
            "\u001b[0;31mNameError\u001b[0m: name 'df' is not defined"
          ]
        }
      ]
    },
    {
      "cell_type": "code",
      "source": [
        "#5 viusalizzare il numero di casi per ogni provincia\n",
        "df.groupby(\"denominazione_provincia\").sum()[[\"totale_casi\"]]"
      ],
      "metadata": {
        "id": "j3k6XOD0SM9o"
      },
      "execution_count": null,
      "outputs": []
    },
    {
      "cell_type": "code",
      "source": [
        "#6 visualizzare l aprovincia con meno casi\n",
        "TotCasiProvincia = df.groupby(\"denominazione_provincia\")[[\"totale_casi\"]].sum().reset_index()\n",
        "TotCasiProvincia[TotCasiProvincia[\"totale_casi\"] == TotCasiProvincia[\"totale_casi\"].min()][[\"denominazione_provincia\"]]"
      ],
      "metadata": {
        "id": "7ZH_Ll9oSW6M"
      },
      "execution_count": null,
      "outputs": []
    },
    {
      "cell_type": "code",
      "source": [
        "#7 fare grafico verticale del esercizio 2\n",
        "labels = dfCiao['denominazione_regione']\n",
        "dati = dfCiao['totale_casi']\n",
        "\n",
        "fig, ax = plt.subplots(figsize=(15,8))\n",
        "ax.bar(labels, dati, label='totale vaccinati in ogni regione')\n",
        "plt.xticks(rotation = 50)\n",
        "ax.set_ylabel('abitanti (in milioni)')\n",
        "ax.set_title('popolazione vaccinata nelle varie regioni')\n",
        "ax.set_xticklabels(labels) \n",
        "ax.legend()"
      ],
      "metadata": {
        "id": "8dQJPzs6Suhh"
      },
      "execution_count": null,
      "outputs": []
    }
  ],
  "metadata": {
    "colab": {
      "provenance": [],
      "authorship_tag": "ABX9TyOSbvZQMqDzkV8yhiQikdbZ",
      "include_colab_link": true
    },
    "kernelspec": {
      "display_name": "Python 3",
      "name": "python3"
    },
    "language_info": {
      "name": "python"
    }
  },
  "nbformat": 4,
  "nbformat_minor": 0
}